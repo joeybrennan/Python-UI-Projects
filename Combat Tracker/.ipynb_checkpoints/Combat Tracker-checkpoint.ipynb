{
 "cells": [
  {
   "cell_type": "code",
   "execution_count": 2,
   "metadata": {},
   "outputs": [],
   "source": [
    "import numpy as np\n",
    "import sys\n",
    "import os\n",
    "import pandas as pd\n",
    "import matplotlib.pyplot as plt\n",
    "from PyQt5 import uic, QtWidgets,QtCore\n",
    "from PyQt5.QtCore import Qt\n",
    "from matplotlib.figure import Figure\n",
    "from matplotlib.backends.backend_qt5agg import (\n",
    "    FigureCanvasQTAgg as FigureCanvas,\n",
    "    NavigationToolbar2QT as NavigationToolbar)\n",
    "from mpl_toolkits.mplot3d import Axes3D\n",
    "#import matplotlib.pyplot as plt\n",
    "qtCreatorFile = \"dnd.ui\" # Enter file here.\n",
    "\n",
    "Ui_MainWindow, QtBaseClass = uic.loadUiType(qtCreatorFile)\n",
    "\n",
    "class TableModel(QtCore.QAbstractTableModel):\n",
    "\n",
    "    def __init__(self, data):\n",
    "        super(TableModel, self).__init__()\n",
    "        self._data = data\n",
    "\n",
    "    def data(self, index, role):\n",
    "        if role == Qt.DisplayRole:\n",
    "            value = self._data.iloc[index.row(), index.column()]\n",
    "            return str(value)\n",
    "\n",
    "    def rowCount(self, index):\n",
    "        return self._data.shape[0]\n",
    "\n",
    "    def columnCount(self, index):\n",
    "        return self._data.shape[1]\n",
    "\n",
    "    def headerData(self, section, orientation, role):\n",
    "        # section is the index of the column/row.\n",
    "        if role == Qt.DisplayRole:\n",
    "            if orientation == Qt.Horizontal:\n",
    "                return str(self._data.columns[section])\n",
    "\n",
    "            if orientation == Qt.Vertical:\n",
    "                return str(self._data.index[section])"
   ]
  },
  {
   "cell_type": "code",
   "execution_count": 3,
   "metadata": {},
   "outputs": [],
   "source": [
    "class dndcharacters():\n",
    "    def __init__(self,name,level,HP,initiative):\n",
    "        self.name = name\n",
    "        self.Level = level\n",
    "        self.HP = HP\n",
    "        self.initiative = np.int(initiative)\n",
    "        self.currentInit = 0\n",
    "    \n",
    "    def rollInit(self):\n",
    "        self.currentInit= np.int(self.initiative + np.random.randint(1,20))\n",
    "        \n",
    "    #def damage(self):\n",
    "        \n",
    "    #def heal(self):"
   ]
  },
  {
   "cell_type": "code",
   "execution_count": 4,
   "metadata": {},
   "outputs": [],
   "source": [
    "class Main(QtWidgets.QMainWindow, Ui_MainWindow):\n",
    "    def __init__(self):\n",
    "        QtWidgets.QMainWindow.__init__(self)\n",
    "        Ui_MainWindow.__init__(self)\n",
    "        self.setupUi(self)\n",
    "        \n",
    "        self.AllCharacters = []\n",
    "        self.counter = 0\n",
    "        self.encounterNum = 1\n",
    "        self.encounter.clicked.connect(self.encounterInit)\n",
    "        self.encounterRun.clicked.connect(self.encounterGraph)\n",
    "        self.roll.clicked.connect(self.roll20)\n",
    "        self.kill.clicked.connect(self.killCharacter)\n",
    "        self.folderselect.clicked.connect(self.sFold)\n",
    "\n",
    "        \n",
    "        \n",
    "#         # Notice that an empty figure instance was added to our plotting \n",
    "#         # window in the initialization method. This is necessary because \n",
    "#         # our first call to changefig will try to remove a previously \n",
    "#         # displayed figure, which will throw an error if one is not \n",
    "#         # displayed. The empty figure serves as a placeholder so the \n",
    "#         # changefig method functions properly.\n",
    "        \n",
    "        fig = Figure()\n",
    "        self.addmpl_3(fig)\n",
    "        \n",
    "    def sFold(self):\n",
    "        #Populates the list with the zip files present in the dir\n",
    "        self.folder.setText(QtWidgets.QFileDialog.getExistingDirectory())\n",
    "        \n",
    "        df = pd.read_excel(os.path.join(self.folder.toPlainText(),\"Characters.xlsx\"))\n",
    "                \n",
    "        self.model = TableModel(df)\n",
    "        self.TABLE.setModel(self.model)\n",
    "\n",
    "        header = self.TABLE.horizontalHeader()       \n",
    "        header.setSectionResizeMode(0, QtWidgets.QHeaderView.Stretch)\n",
    "        header.setSectionResizeMode(1, QtWidgets.QHeaderView.Stretch)\n",
    "        header.setSectionResizeMode(2, QtWidgets.QHeaderView.Stretch)\n",
    "        header.setSectionResizeMode(3, QtWidgets.QHeaderView.Stretch)\n",
    "\n",
    "    def roll20(self):\n",
    "        self.lcdNumber.display(np.random.randint(1,20))\n",
    "            \n",
    "    def encounterInit(self):\n",
    "        df_char = pd.read_excel(os.path.join(self.folder.toPlainText(),\"Characters.xlsx\"))\n",
    "        Characters = []\n",
    "        for char in df_char.values.tolist():\n",
    "            Characters.append(dndcharacters(*char))\n",
    "        for Character in Characters:\n",
    "            Character.rollInit()\n",
    "        Characters = sorted(Characters, key=lambda x:x.currentInit,reverse=True)\n",
    "        \n",
    "        df_enemy = pd.read_excel(os.path.join(self.folder.toPlainText(),\"Encounter_%s.xlsx\"%self.encounterNum))\n",
    "        Enemys = []\n",
    "        for enemy in df_enemy.values.tolist():\n",
    "            Enemys.append(dndcharacters(*enemy))\n",
    "        for Enemy in Enemys:\n",
    "            Enemy.rollInit()\n",
    "        Enemys = sorted(Enemys, key=lambda x:x.currentInit,reverse=True)\n",
    "        \n",
    "        AllCharacters = []\n",
    "        AllCharacters.extend(Characters)\n",
    "        AllCharacters.extend(Enemys)\n",
    "        AllCharacters = sorted(AllCharacters, key=lambda x:x.currentInit,reverse=True)\n",
    "        \n",
    "        self.counter = 0\n",
    "        self.encounterNum +=1\n",
    "        self.AllCharacters = AllCharacters\n",
    "        self.encounterGraph()\n",
    "        \n",
    "    def killCharacter(self):\n",
    "        print([char.name for char in self.AllCharacters])\n",
    "        self.AllCharacters.pop(self.counter-1)\n",
    "        if self.counter == 0:\n",
    "            self.counter = 0\n",
    "        else:\n",
    "            self.counter+=-1\n",
    "        print([char.name for char in self.AllCharacters],self.counter)\n",
    "        self.encounterGraph()\n",
    "    \n",
    "    def encounterUpdate(self):\n",
    "        \n",
    "        figx = Figure()\n",
    "        \n",
    "        ax = figx.add_axes([0.1,0.1,0.8,0.8])\n",
    "        ax.set_title(\"Combat Tracker\")\n",
    "        ax.grid() \n",
    "        barlist= ax.bar([Char.name for Char in self.AllCharacters],[Char.currentInit for Char in self.AllCharacters])\n",
    "        ax.set_ylim((0,30))\n",
    "        barlist[self.counter].set_color('r')\n",
    "        \n",
    "        ax.set_xlabel(\"Character\")     \n",
    "        ax.set_ylabel(\"Initiative\")\n",
    "        \n",
    "        \n",
    "        \n",
    "#         ax1f1 = figx.add_subplot(111,projection='3d')##figx.gca(projection='3d')\n",
    "#         ax1f1.plot_surface(X,Y,Z.T, rstride=1, cstride=1, linewidth=0.1)\n",
    "        \n",
    "        self.rmmpl_3()\n",
    "        self.addmpl_3(figx)\n",
    "    \n",
    "    def encounterGraph(self):\n",
    "        \n",
    "        ##Update Box##\n",
    "        self.Character.setText(self.AllCharacters[self.counter].name)\n",
    "        self.HP.display(self.AllCharacters[self.counter].HP)\n",
    "        self.Level.display(self.AllCharacters[self.counter].Level)\n",
    "        \n",
    "        \n",
    "        \n",
    "        figx = Figure()\n",
    "        ax = figx.add_axes([0.1,0.1,0.8,0.8])\n",
    "        ax.set_title(\"Combat Tracker\")\n",
    "        ax.grid() \n",
    "        barlist= ax.bar([Char.name for Char in self.AllCharacters],[Char.currentInit for Char in self.AllCharacters])\n",
    "        ax.set_ylim((0,30))\n",
    "        barlist[self.counter].set_color('r')\n",
    "        if self.counter + 1 == len(self.AllCharacters):\n",
    "            self.counter = 0\n",
    "        else:\n",
    "            self.counter +=1\n",
    "        ax.set_xlabel(\"Character\")     \n",
    "        ax.set_ylabel(\"Initiative\")\n",
    "        \n",
    "        \n",
    "        \n",
    "#         ax1f1 = figx.add_subplot(111,projection='3d')##figx.gca(projection='3d')\n",
    "#         ax1f1.plot_surface(X,Y,Z.T, rstride=1, cstride=1, linewidth=0.1)\n",
    "        \n",
    "        self.rmmpl_3()\n",
    "        self.addmpl_3(figx)\n",
    "        \n",
    "    def addmpl_3(self, fig):\n",
    "        self.canvas3 = FigureCanvas(fig)\n",
    "        self.mplvl_3.addWidget(self.canvas3)\n",
    "        self.canvas3.draw()\n",
    "        self.toolbar3 = NavigationToolbar(self.canvas3, \n",
    "                self.mplwindow_3, coordinates=True)\n",
    "        self.mplvl_3.addWidget(self.toolbar3)        \n",
    "        \n",
    "    def rmmpl_3(self):\n",
    "        self.mplvl_3.removeWidget(self.canvas3)\n",
    "        self.canvas3.close()\n",
    "        self.mplvl_3.removeWidget(self.toolbar3)\n",
    "        self.toolbar3.close()\n",
    "        \n",
    "if __name__ == '__main__':\n",
    "    app = QtWidgets.QApplication(sys.argv)\n",
    "    app.aboutToQuit.connect(app.deleteLater)\n",
    "    window = Main()\n",
    "    window.show()\n",
    "    app.exec_()"
   ]
  },
  {
   "cell_type": "code",
   "execution_count": 1,
   "metadata": {},
   "outputs": [
    {
     "ename": "NameError",
     "evalue": "name 'QtWidgets' is not defined",
     "output_type": "error",
     "traceback": [
      "\u001b[0;31m---------------------------------------------------------------------------\u001b[0m",
      "\u001b[0;31mNameError\u001b[0m                                 Traceback (most recent call last)",
      "\u001b[0;32m<ipython-input-1-0ec36c07fd57>\u001b[0m in \u001b[0;36m<module>\u001b[0;34m()\u001b[0m\n\u001b[0;32m----> 1\u001b[0;31m \u001b[0mQtWidgets\u001b[0m\u001b[1;33m.\u001b[0m\u001b[0mQLCDNumber\u001b[0m\u001b[1;33m.\u001b[0m\u001b[0mvalue\u001b[0m\u001b[1;33m(\u001b[0m\u001b[1;33m)\u001b[0m\u001b[1;33m\u001b[0m\u001b[0m\n\u001b[0m",
      "\u001b[0;31mNameError\u001b[0m: name 'QtWidgets' is not defined"
     ]
    }
   ],
   "source": [
    "QtWidgets.QLCDNumber.value()"
   ]
  },
  {
   "cell_type": "code",
   "execution_count": null,
   "metadata": {},
   "outputs": [],
   "source": []
  },
  {
   "cell_type": "code",
   "execution_count": 197,
   "metadata": {},
   "outputs": [],
   "source": [
    "class dndcharacters():\n",
    "    def __init__(self,name,level,HP,initiative):\n",
    "        self.name = name\n",
    "        self.level = level\n",
    "        self.HP = HP\n",
    "        self.initiative = np.int(initiative)\n",
    "        self.currentInit = 0\n",
    "    \n",
    "    def rollInit(self):\n",
    "        self.currentInit= np.int(self.initiative + np.random.randint(1,20))\n",
    "        \n",
    "    #def damage(self):\n",
    "        \n",
    "    #def heal(self):\n",
    "        "
   ]
  },
  {
   "cell_type": "code",
   "execution_count": 215,
   "metadata": {},
   "outputs": [],
   "source": [
    "df_char = pd.read_excel(\"Session/Characters.xlsx\")\n",
    "Characters = []\n",
    "for char in df_char.values.tolist():\n",
    "    Characters.append(dndcharacters(*char))\n",
    "for Character in Characters:\n",
    "    Character.rollInit()\n",
    "Characters = sorted(Characters, key=lambda x:x.currentInit,reverse=True)"
   ]
  },
  {
   "cell_type": "code",
   "execution_count": 216,
   "metadata": {},
   "outputs": [],
   "source": [
    "df_enemy = pd.read_excel(\"Session/Encounter_1.xlsx\")\n",
    "Enemys = []\n",
    "for enemy in df_enemy.values.tolist():\n",
    "    Enemys.append(dndcharacters(*enemy))\n",
    "for Enemy in Enemys:\n",
    "    Enemy.rollInit()\n",
    "Enemys = sorted(Enemys, key=lambda x:x.currentInit,reverse=True)"
   ]
  },
  {
   "cell_type": "code",
   "execution_count": 217,
   "metadata": {},
   "outputs": [
    {
     "data": {
      "image/png": "[encoded data removed]",
      "text/plain": [
       "<Figure size 720x720 with 2 Axes>"
      ]
     },
     "metadata": {
      "needs_background": "light"
     },
     "output_type": "display_data"
    }
   ],
   "source": [
    "fig = plt.figure(figsize=(10,10))\n",
    "plt.subplot(211)\n",
    "\n",
    "plt.bar([Char.name for Char in Characters],[Char.currentInit for Char in Characters])\n",
    "plt.ylim((0,30))\n",
    "plt.subplot(212)\n",
    "\n",
    "plt.bar([Enemy.name for Enemy in Enemys],[Enemy.currentInit for Enemy in Enemys])\n",
    "plt.ylim((0,30))\n",
    "plt.show()\n"
   ]
  },
  {
   "cell_type": "code",
   "execution_count": 220,
   "metadata": {},
   "outputs": [],
   "source": [
    "AllCharacters = []\n",
    "AllCharacters.extend(Characters)\n",
    "AllCharacters.extend(Enemys)\n",
    "AllCharacters = sorted(AllCharacters, key=lambda x:x.currentInit,reverse=True)"
   ]
  },
  {
   "cell_type": "code",
   "execution_count": 5,
   "metadata": {},
   "outputs": [
    {
     "ename": "NameError",
     "evalue": "name 'AllCharacters' is not defined",
     "output_type": "error",
     "traceback": [
      "\u001b[0;31m---------------------------------------------------------------------------\u001b[0m",
      "\u001b[0;31mNameError\u001b[0m                                 Traceback (most recent call last)",
      "\u001b[0;32m<ipython-input-5-2ca735632295>\u001b[0m in \u001b[0;36m<module>\u001b[0;34m()\u001b[0m\n\u001b[1;32m      4\u001b[0m \u001b[0max\u001b[0m\u001b[1;33m.\u001b[0m\u001b[0mset_title\u001b[0m\u001b[1;33m(\u001b[0m\u001b[1;34m\"Combat Tracker\"\u001b[0m\u001b[1;33m)\u001b[0m\u001b[1;33m\u001b[0m\u001b[0m\n\u001b[1;32m      5\u001b[0m \u001b[0max\u001b[0m\u001b[1;33m.\u001b[0m\u001b[0mgrid\u001b[0m\u001b[1;33m(\u001b[0m\u001b[1;33m)\u001b[0m\u001b[1;33m\u001b[0m\u001b[0m\n\u001b[0;32m----> 6\u001b[0;31m \u001b[0mbarlist\u001b[0m\u001b[1;33m=\u001b[0m \u001b[0max\u001b[0m\u001b[1;33m.\u001b[0m\u001b[0mbar\u001b[0m\u001b[1;33m(\u001b[0m\u001b[1;33m[\u001b[0m\u001b[0mChar\u001b[0m\u001b[1;33m.\u001b[0m\u001b[0mname\u001b[0m \u001b[1;32mfor\u001b[0m \u001b[0mChar\u001b[0m \u001b[1;32min\u001b[0m \u001b[0mAllCharacters\u001b[0m\u001b[1;33m]\u001b[0m\u001b[1;33m,\u001b[0m\u001b[1;33m[\u001b[0m\u001b[0mChar\u001b[0m\u001b[1;33m.\u001b[0m\u001b[0mcurrentInit\u001b[0m \u001b[1;32mfor\u001b[0m \u001b[0mChar\u001b[0m \u001b[1;32min\u001b[0m \u001b[0mAllCharacters\u001b[0m\u001b[1;33m]\u001b[0m\u001b[1;33m)\u001b[0m\u001b[1;33m\u001b[0m\u001b[0m\n\u001b[0m\u001b[1;32m      7\u001b[0m \u001b[0max\u001b[0m\u001b[1;33m.\u001b[0m\u001b[0mset_ylim\u001b[0m\u001b[1;33m(\u001b[0m\u001b[1;33m(\u001b[0m\u001b[1;36m0\u001b[0m\u001b[1;33m,\u001b[0m\u001b[1;36m30\u001b[0m\u001b[1;33m)\u001b[0m\u001b[1;33m)\u001b[0m\u001b[1;33m\u001b[0m\u001b[0m\n\u001b[1;32m      8\u001b[0m \u001b[0mbarlist\u001b[0m\u001b[1;33m[\u001b[0m\u001b[1;36m0\u001b[0m\u001b[1;33m]\u001b[0m\u001b[1;33m.\u001b[0m\u001b[0mset_color\u001b[0m\u001b[1;33m(\u001b[0m\u001b[1;34m'r'\u001b[0m\u001b[1;33m)\u001b[0m\u001b[1;33m\u001b[0m\u001b[0m\n",
      "\u001b[0;31mNameError\u001b[0m: name 'AllCharacters' is not defined"
     ]
    },
    {
     "data": {
      "image/png": "[encoded data removed]",
      "text/plain": [
       "<Figure size 648x360 with 1 Axes>"
      ]
     },
     "metadata": {
      "needs_background": "light"
     },
     "output_type": "display_data"
    }
   ],
   "source": [
    "fig = plt.figure(figsize=(9,5))\n",
    "\n",
    "ax = fig.add_axes([0,0,1,1])\n",
    "ax.set_title(\"Combat Tracker\")\n",
    "ax.grid() \n",
    "barlist= ax.bar([Char.name for Char in AllCharacters],[Char.currentInit for Char in AllCharacters])\n",
    "ax.set_ylim((0,30))\n",
    "barlist[0].set_color('r')\n",
    "ax.set_xlabel(\"Character\")     \n",
    "ax.set_ylabel(\"Initiative\")     \n",
    "plt.show()"
   ]
  },
  {
   "cell_type": "code",
   "execution_count": null,
   "metadata": {},
   "outputs": [],
   "source": [
    "ax.set_"
   ]
  }
 ],
 "metadata": {
  "anaconda-cloud": {},
  "kernelspec": {
   "display_name": "Python [conda env:Anaconda3]",
   "language": "python",
   "name": "conda-env-Anaconda3-py"
  }
 },
 "nbformat": 4,
 "nbformat_minor": 4
}
