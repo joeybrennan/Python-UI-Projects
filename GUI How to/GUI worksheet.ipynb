{
 "cells": [
  {
   "cell_type": "markdown",
   "metadata": {},
   "source": [
    "# PyQt with QT designer"
   ]
  },
  {
   "cell_type": "markdown",
   "metadata": {},
   "source": [
    "Here we are using the PyQt5 module and all objects will be created using QT designer\n",
    "to be called and referenced from the python script.\n",
    "    -  For small projects the objects can be coded and designed manually but eventually\n",
    "       the leap has to be made to QT designer for large GUI projects. Which allow for \n",
    "       the efficient design and implemnetation of the project.\n",
    "    -  A brief intoduction to using QT without the designer is given below but of from\n",
    "       this size of project coding in this manor becomes cumbersum. We will develope \n",
    "       from this simple program to a fully fledged GUI.\n",
    "    -  For further info on this topic please read \"Rapid GUI Programming with Python and Qt - The Definitive Guide to PyQt Programming (2008)\"\n",
    "    "
   ]
  },
  {
   "cell_type": "markdown",
   "metadata": {},
   "source": [
    "# Simple expression calculator interal gui"
   ]
  },
  {
   "cell_type": "markdown",
   "metadata": {},
   "source": [
    "The code below is designed to generate a simple expression calculator, without\n",
    "the assistance of the QT designer package.\n"
   ]
  },
  {
   "cell_type": "code",
   "execution_count": 4,
   "metadata": {
    "collapsed": false
   },
   "outputs": [],
   "source": [
    "from __future__ import division\n",
    "import sys\n",
    "from math import *\n",
    "from PyQt5 import QtCore, QtGui,QtWidgets\n",
    "\n",
    "\n",
    "class Form(QtWidgets.QDialog):\n",
    "    def __init__(self, parent=None):\n",
    "        super(Form,self).__init__(parent)\n",
    "        self.browser = QtWidgets.QTextBrowser()\n",
    "        self.lineedit = QtWidgets.QLineEdit(\"Type Expression here and press Enter !\")\n",
    "        self.lineedit.selectAll()\n",
    "        layout = QtWidgets.QVBoxLayout()\n",
    "        layout.addWidget(self.browser)\n",
    "        layout.addWidget(self.lineedit)\n",
    "        self.setLayout(layout)\n",
    "        self.lineedit.setFocus()\n",
    "        self.lineedit.returnPressed.connect(self.updateUi)\n",
    "        self.setWindowTitle(\"Calculate\")\n",
    "        \n",
    "        \n",
    "    def updateUi(self): \n",
    "        try: \n",
    "            text = str(self.lineedit.text()) \n",
    "            self.browser.append(\"%s = <b>%s</b>\" % (text, eval(text))) \n",
    "        except: \n",
    "            self.browser.append( \"<font color=red>%s is invalid!</font>\" % text)\n",
    "\n",
    "if __name__ == '__main__':\n",
    "    app = QtWidgets.QApplication(sys.argv)\n",
    "    app.aboutToQuit.connect(app.deleteLater)\n",
    "    window = Form()\n",
    "    window.show()\n",
    "    app.exec_()"
   ]
  },
  {
   "cell_type": "markdown",
   "metadata": {},
   "source": [
    "    - We see that one could lose track creating and modifying each of the objects.\n",
    "      Even for a small project such as the one above it is starting to become difficult\n",
    "      to manage."
   ]
  },
  {
   "cell_type": "markdown",
   "metadata": {},
   "source": [
    "# Calculate Tax example"
   ]
  },
  {
   "cell_type": "code",
   "execution_count": 5,
   "metadata": {
    "collapsed": true
   },
   "outputs": [],
   "source": [
    "import sys\n",
    "from PyQt5 import QtCore, QtGui, uic, QtWidgets\n",
    "\n",
    "qtCreatorFile = \"tax_calc.ui\" # Enter file here.\n",
    "\n",
    "Ui_MainWindow, QtBaseClass = uic.loadUiType(qtCreatorFile)\n",
    "\n",
    "class MyApp(QtWidgets.QMainWindow, Ui_MainWindow):\n",
    "    def __init__(self):\n",
    "        QtWidgets.QMainWindow.__init__(self)\n",
    "        Ui_MainWindow.__init__(self)\n",
    "        self.setupUi(self)\n",
    "        self.calc_tax.clicked.connect(self.CalculateTax)\n",
    "    \n",
    "    def CalculateTax(self):\n",
    "        price = int(self.PriceBox.toPlainText())\n",
    "        tax = (self.TaxRate.value())\n",
    "        total_price = price + ((tax/100)*price)\n",
    "        total_price_string = \"The total price with tax is : \" + str(total_price)\n",
    "        self.ResultsWindow.setText(total_price_string)\n",
    "        \n",
    "\n",
    "if __name__ == \"__main__\":\n",
    "    app = QtWidgets.QApplication(sys.argv)\n",
    "    app.aboutToQuit.connect(app.deleteLater)\n",
    "    window = MyApp()\n",
    "    window.show()\n",
    "    app.exec_()\n",
    "    "
   ]
  },
  {
   "cell_type": "markdown",
   "metadata": {},
   "source": [
    "    - The aboves shows how to interact with a pre-developed UI, once the ui file is imported and self \n",
    "      referenced we can begin calling the pre design objects\n",
    "    - Please refer to the QT help page & other documentation for correct implementation of the designer\n",
    "      file and connecting functions http://doc.qt.io/qt-5/qtdesigner-manual.html\n",
    "     "
   ]
  },
  {
   "cell_type": "markdown",
   "metadata": {},
   "source": [
    "# Plotting GUI's"
   ]
  },
  {
   "cell_type": "code",
   "execution_count": 6,
   "metadata": {
    "collapsed": false
   },
   "outputs": [],
   "source": [
    "import numpy as np\n",
    "import sys\n",
    "\n",
    "from PyQt5 import uic, QtWidgets\n",
    "from matplotlib.figure import Figure\n",
    "from matplotlib.backends.backend_qt5agg import (\n",
    "    FigureCanvasQTAgg as FigureCanvas,\n",
    "    NavigationToolbar2QT as NavigationToolbar)\n",
    "from mpl_toolkits.mplot3d import Axes3D\n",
    "#import matplotlib.pyplot as plt\n",
    "qtCreatorFile = \"plotting.ui\" # Enter file here.\n",
    "\n",
    "Ui_MainWindow, QtBaseClass = uic.loadUiType(qtCreatorFile)\n",
    "\n",
    "class Main(QtWidgets.QMainWindow, Ui_MainWindow):\n",
    "    def __init__(self):\n",
    "        QtWidgets.QMainWindow.__init__(self)\n",
    "        Ui_MainWindow.__init__(self)\n",
    "        self.setupUi(self)\n",
    "        self.plotx.clicked.connect(self.xPlot)\n",
    "        self.ploty.clicked.connect(self.yPlot)\n",
    "        self.plotsurf.clicked.connect(self.surfPlot)\n",
    "        \n",
    "        #Notice that an empty figure instance was added to our plotting window in the initialization method. \n",
    "        #This is necessary because our first call to changefig will try to remove a previously displayed figure,\n",
    "        #which will throw an error if one is not displayed. \n",
    "        #The empty figure serves as a placeholder so the changefig method functions properly.\n",
    "        fig = Figure()\n",
    "        fig2 = Figure()\n",
    "        fig3 = Figure()\n",
    "        self.addmpl_1(fig)\n",
    "        self.addmpl_2(fig2)\n",
    "        self.addmpl_3(fig3)\n",
    "        \n",
    "    def xPlot(self):\n",
    "        x = np.linspace(float(self.xstart.toPlainText()),float(self.xstop.toPlainText()),float(self.xstep.toPlainText()))\n",
    "        R = np.sqrt(x**2)\n",
    "        Z = np.sin(R)\n",
    "        \n",
    "        figx = Figure()\n",
    "        ax1f1 = figx.add_subplot(111)\n",
    "        ax1f1.set_title('xplot')\n",
    "        ax1f1.plot(x,Z,label='Xplot')\n",
    "        \n",
    "        ax1f1.set_xlabel('x')\n",
    "        ax1f1.set_ylabel('y')\n",
    "        ax1f1.grid()\n",
    "        self.rmmpl_1()\n",
    "        self.addmpl_1(figx)\n",
    "        \n",
    "    def yPlot(self):\n",
    "        y = np.linspace(float(self.ystart.toPlainText()),float(self.ystop.toPlainText()),float(self.ystep.toPlainText()))\n",
    "        R = np.sqrt(y**2)\n",
    "        Z = np.sin(R)\n",
    "        \n",
    "        figx = Figure()\n",
    "        ax1f1 = figx.add_subplot(111)\n",
    "        ax1f1.set_title('yplot')\n",
    "        ax1f1.plot(y,Z,label='yplot')\n",
    "        \n",
    "        ax1f1.set_xlabel('x')\n",
    "        ax1f1.set_ylabel('y')\n",
    "        ax1f1.grid()\n",
    "        self.rmmpl_2()\n",
    "        self.addmpl_2(figx)\n",
    "    \n",
    "    def surfPlot(self):\n",
    "        x = np.linspace(float(self.xstart.toPlainText()),float(self.xstop.toPlainText()),float(self.xstep.toPlainText()))\n",
    "        y = np.linspace(float(self.ystart.toPlainText()),float(self.ystop.toPlainText()),float(self.ystep.toPlainText()))\n",
    "        \n",
    "        X, Y = np.meshgrid(x, y)\n",
    "        R = np.sqrt(X**2 + Y**2)\n",
    "        Z = np.sin(R)\n",
    "        \n",
    "        figx = Figure()\n",
    "        ax1f1 = figx.gca(projection='3d')\n",
    "        ax1f1.plot_surface(X,Y,Z.T, rstride=1, cstride=1, linewidth=0.1)\n",
    "        \n",
    "        self.rmmpl_3()\n",
    "        self.addmpl_3(figx)\n",
    "        \n",
    "    def addmpl_1(self, fig):\n",
    "        self.canvas = FigureCanvas(fig)\n",
    "        self.mplvl_1.addWidget(self.canvas)\n",
    "        self.canvas.draw()\n",
    "        self.toolbar = NavigationToolbar(self.canvas, \n",
    "                self.mplwindow_1, coordinates=True)\n",
    "        self.mplvl_1.addWidget(self.toolbar)\n",
    "        \n",
    "    def addmpl_2(self, fig):\n",
    "        self.canvas2 = FigureCanvas(fig)\n",
    "        self.mplvl_2.addWidget(self.canvas2)\n",
    "        self.canvas2.draw()\n",
    "        self.toolbar2 = NavigationToolbar(self.canvas2, \n",
    "                self.mplwindow_2, coordinates=True)\n",
    "        self.mplvl_2.addWidget(self.toolbar2)\n",
    "    \n",
    "    def addmpl_3(self, fig):\n",
    "        self.canvas3 = FigureCanvas(fig)\n",
    "        self.mplvl_3.addWidget(self.canvas3)\n",
    "        self.canvas3.draw()\n",
    "        self.toolbar3 = NavigationToolbar(self.canvas3, \n",
    "                self.mplwindow_3, coordinates=True)\n",
    "        self.mplvl_3.addWidget(self.toolbar3)        \n",
    "        \n",
    "    def rmmpl_1(self):\n",
    "        self.mplvl_1.removeWidget(self.canvas)\n",
    "        self.canvas.close()\n",
    "        self.mplvl_1.removeWidget(self.toolbar)\n",
    "        self.toolbar.close()\n",
    "    \n",
    "    def rmmpl_2(self):\n",
    "        self.mplvl_2.removeWidget(self.canvas2)\n",
    "        self.canvas2.close()\n",
    "        self.mplvl_2.removeWidget(self.toolbar2)\n",
    "        self.toolbar2.close()\n",
    "\n",
    "    def rmmpl_3(self):\n",
    "        self.mplvl_3.removeWidget(self.canvas3)\n",
    "        self.canvas3.close()\n",
    "        self.mplvl_3.removeWidget(self.toolbar3)\n",
    "        self.toolbar3.close()\n",
    "     \n",
    "    \n",
    "if __name__ == '__main__':\n",
    "    app = QtWidgets.QApplication(sys.argv)\n",
    "    app.aboutToQuit.connect(app.deleteLater)\n",
    "    window = Main()\n",
    "    window.show()\n",
    "    app.exec_()"
   ]
  },
  {
   "cell_type": "code",
   "execution_count": null,
   "metadata": {
    "collapsed": true
   },
   "outputs": [],
   "source": []
  }
 ],
 "metadata": {
  "anaconda-cloud": {},
  "kernelspec": {
   "display_name": "Python [default]",
   "language": "python",
   "name": "python3"
  },
  "language_info": {
   "codemirror_mode": {
    "name": "ipython",
    "version": 3
   },
   "file_extension": ".py",
   "mimetype": "text/x-python",
   "name": "python",
   "nbconvert_exporter": "python",
   "pygments_lexer": "ipython3",
   "version": "3.5.2"
  }
 },
 "nbformat": 4,
 "nbformat_minor": 1
}
